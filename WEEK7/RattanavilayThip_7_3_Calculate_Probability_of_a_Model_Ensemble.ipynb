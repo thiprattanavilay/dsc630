{
 "cells": [
  {
   "cell_type": "markdown",
   "metadata": {},
   "source": [
    "\n",
    "##########################################################\n",
    "#### File: RattanavilayThip_7_3_Calculate_Probability_of_a_Model_Ensemble<br>\n",
    "#### Name: Thip Rattanavilay<br>\n",
    "#### Date: 07/22/2021<br>\n",
    "#### Course: DSC 630 7.3 Assignment: Calculate Probability of a Model Ensemble<br>\n",
    "##########################################################"
   ]
  },
  {
   "cell_type": "markdown",
   "metadata": {},
   "source": [
    "### Calculate the probability of a model ensemble that uses simple majority voting making an incorrect prediction in the following scenarios. (Hint: Understanding how to use the binomial distribution will be useful in answering this question.)\n",
    "\n",
    "\n",
    "#### 1) The ensemble contains 11 independent models, all of which have an error rate of 0.2.\n",
    "##### 2) The ensemble contains 11 independent models, all of which have an error rate of 0.49.\n",
    "#### 3) The ensemble contains 21 independent models, all of which have an error rate of 0.49."
   ]
  },
  {
   "cell_type": "markdown",
   "metadata": {},
   "source": [
    "# #1 -  The ensemble contains 11 independent models, all of which have an error rate of 0.2 (20%)"
   ]
  },
  {
   "cell_type": "code",
   "execution_count": 1,
   "metadata": {},
   "outputs": [],
   "source": [
    "# Loading Libraries\n",
    "import numpy as np\n",
    "import matplotlib.pyplot as plt\n",
    "\n",
    "#The stats submodule of the scipy module does numerous calculations in probability and statistics.\n",
    "from scipy.stats import binom\n",
    "\n"
   ]
  },
  {
   "cell_type": "code",
   "execution_count": 2,
   "metadata": {},
   "outputs": [],
   "source": [
    "#define cdf distro\n",
    "def binomcdf(k, n, p) :\n",
    "        return 1 - binom.cdf (k, n, p)"
   ]
  },
  {
   "cell_type": "code",
   "execution_count": 3,
   "metadata": {},
   "outputs": [],
   "source": [
    "#define pmf distro\n",
    "def binompmf(k, n, p) :\n",
    "        return binom.pmf (k, n, p)"
   ]
  },
  {
   "cell_type": "markdown",
   "metadata": {},
   "source": [
    "## Establishing Parameters"
   ]
  },
  {
   "cell_type": "code",
   "execution_count": 4,
   "metadata": {},
   "outputs": [],
   "source": [
    "#set parameters 11, .2, // 2\n",
    "Num_of_Models=11\n",
    "Error_Rates=0.2\n",
    "Num_of_Fails = Num_of_Models // 2"
   ]
  },
  {
   "cell_type": "markdown",
   "metadata": {},
   "source": [
    "## Using the CDF Function\n",
    "\n",
    "Finds the probability that x successes or fewer occur during n trials where the probability of success on a given trial is equal to p."
   ]
  },
  {
   "cell_type": "code",
   "execution_count": 5,
   "metadata": {},
   "outputs": [
    {
     "data": {
      "text/plain": [
       "0.011654205439999954"
      ]
     },
     "execution_count": 5,
     "metadata": {},
     "output_type": "execute_result"
    }
   ],
   "source": [
    "# values of k,p,n and binomcdf will return an array consist of probability.\n",
    "binomcdf(k=Num_of_Fails,\n",
    "         p=Error_Rates, \n",
    "         n=Num_of_Models)"
   ]
  },
  {
   "cell_type": "code",
   "execution_count": 6,
   "metadata": {},
   "outputs": [
    {
     "data": {
      "image/png": "[encoded data removed]",
      "text/plain": [
       "<Figure size 432x288 with 1 Axes>"
      ]
     },
     "metadata": {
      "needs_background": "light"
     },
     "output_type": "display_data"
    }
   ],
   "source": [
    "#Finding the R Value and assign list to R\n",
    "r = list(range(Num_of_Models + 1))\n",
    "\n",
    "# list of cdf values\n",
    "dist = [binom.cdf(r,Num_of_Models,Error_Rates) for r in r ]\n",
    "\n",
    "# plotting the graph \n",
    "plt.bar(r, dist, color=['purple'], edgecolor='black')\n",
    "plt.title(\"CDF Method - Number of False Positives\")\n",
    "plt.xlabel(\"X\")\n",
    "plt.ylabel(\"Probability Mass\")\n",
    "plt.show()"
   ]
  },
  {
   "cell_type": "markdown",
   "metadata": {},
   "source": [
    "## Using the PMF Function\n",
    "\n",
    "\"pmf\" stands for \"probability mass function\"other name for the distribution of a variable that has finitely many values.\n",
    "\n",
    "The formula for the binomial probability mass function is\n",
    "\n",
    "P(x;p,n)=(nx)(p)x(1−p)(n−x)"
   ]
  },
  {
   "cell_type": "code",
   "execution_count": 7,
   "metadata": {
    "scrolled": true
   },
   "outputs": [
    {
     "data": {
      "text/plain": [
       "0.038755368959999995"
      ]
     },
     "execution_count": 7,
     "metadata": {},
     "output_type": "execute_result"
    }
   ],
   "source": [
    "# values of k,P,N and binompmf will return an array consist of probability.\n",
    "binompmf(k=Num_of_Fails, \n",
    "         p=Error_Rates, \n",
    "         n=Num_of_Models)"
   ]
  },
  {
   "cell_type": "markdown",
   "metadata": {},
   "source": [
    "For an ensemble with 11 models with an error rate of 20% per model,\n",
    "the probability of getting PMF misclassifications is 3.8755%"
   ]
  },
  {
   "cell_type": "code",
   "execution_count": 8,
   "metadata": {},
   "outputs": [
    {
     "data": {
      "image/png": "[encoded data removed]",
      "text/plain": [
       "<Figure size 432x288 with 1 Axes>"
      ]
     },
     "metadata": {
      "needs_background": "light"
     },
     "output_type": "display_data"
    }
   ],
   "source": [
    "#Finding the R Value and assign list to R\n",
    "r = list(range(Num_of_Models + 1))\n",
    "\n",
    "#pmf values\n",
    "dist = [binom.pmf(r,Num_of_Models,Error_Rates) for r in r ]\n",
    "\n",
    "#plotting graph \n",
    "plt.bar(r, dist, color=['purple'], edgecolor='black')\n",
    "plt.title(\"PMF Method - Number of False Positives\")\n",
    "plt.xlabel(\"X\")\n",
    "plt.ylabel(\"Probability Mass\")\n",
    "plt.show()"
   ]
  },
  {
   "cell_type": "markdown",
   "metadata": {},
   "source": [
    "### Results:"
   ]
  },
  {
   "cell_type": "markdown",
   "metadata": {},
   "source": [
    "### For an ensemble with 11 models with an error rate of 20% per model, the probability of getting misclassifications is 1.1654%"
   ]
  },
  {
   "cell_type": "markdown",
   "metadata": {},
   "source": [
    "# #2 -  The ensemble contains 11 independent models, all of which have an error rate of 0.49 (49%)"
   ]
  },
  {
   "cell_type": "markdown",
   "metadata": {},
   "source": [
    "# Establishing Parameters"
   ]
  },
  {
   "cell_type": "code",
   "execution_count": 9,
   "metadata": {},
   "outputs": [],
   "source": [
    "#set parameters 11,.49,/ 2\n",
    "Num_of_Models=11\n",
    "Error_Rates=0.49\n",
    "Num_of_Fails = np.ceil(Num_of_Models / 2)"
   ]
  },
  {
   "cell_type": "markdown",
   "metadata": {},
   "source": [
    "## Using the CDF Function\n",
    "\n",
    "Finds the probability that x successes or fewer occur during n trials where the probability of success on a given trial is equal to p."
   ]
  },
  {
   "cell_type": "code",
   "execution_count": 10,
   "metadata": {},
   "outputs": [
    {
     "data": {
      "text/plain": [
       "0.4729477257149748"
      ]
     },
     "execution_count": 10,
     "metadata": {},
     "output_type": "execute_result"
    }
   ],
   "source": [
    "# values of k,P,N and binomcdf will return an array consist of probability.\n",
    "binomcdf(k=Num_of_Fails-1,\n",
    "         p=Error_Rates, \n",
    "         n=Num_of_Models)"
   ]
  },
  {
   "cell_type": "code",
   "execution_count": 11,
   "metadata": {},
   "outputs": [
    {
     "data": {
      "image/png": "[encoded data removed]",
      "text/plain": [
       "<Figure size 432x288 with 1 Axes>"
      ]
     },
     "metadata": {
      "needs_background": "light"
     },
     "output_type": "display_data"
    }
   ],
   "source": [
    "#Finding the R Value and assign list to R\n",
    "r = list(range(Num_of_Models + 1))\n",
    "\n",
    "# cdf values\n",
    "dist = [binom.cdf(r,Num_of_Models,Error_Rates) for r in r ]\n",
    "\n",
    "# plotting graph \n",
    "plt.bar(r, dist, color=['green'], edgecolor='black')\n",
    "plt.title(\"CDF Method - Number of False Positives\")\n",
    "plt.xlabel(\"X\")\n",
    "plt.ylabel(\"Probability\")\n",
    "plt.show()"
   ]
  },
  {
   "cell_type": "markdown",
   "metadata": {},
   "source": [
    "## Using the PMF Function\n",
    "\n",
    "\"pmf\" stands for \"probability mass function\"other name for the distribution of a variable that has finitely many values.\n",
    "\n",
    "The formula for the binomial probability mass function is\n",
    "\n",
    "P(x;p,n)=(nx)(p)x(1−p)(n−x)"
   ]
  },
  {
   "cell_type": "code",
   "execution_count": 12,
   "metadata": {},
   "outputs": [
    {
     "data": {
      "text/plain": [
       "0.2296378289465168"
      ]
     },
     "execution_count": 12,
     "metadata": {},
     "output_type": "execute_result"
    }
   ],
   "source": [
    "# values of k,p,n and binompmf will return an array consist of probability.\n",
    "binompmf(k=Num_of_Fails-1, \n",
    "         p=Error_Rates, \n",
    "         n=Num_of_Models)"
   ]
  },
  {
   "cell_type": "code",
   "execution_count": 13,
   "metadata": {},
   "outputs": [
    {
     "data": {
      "image/png": "[encoded data removed]",
      "text/plain": [
       "<Figure size 432x288 with 1 Axes>"
      ]
     },
     "metadata": {
      "needs_background": "light"
     },
     "output_type": "display_data"
    }
   ],
   "source": [
    "#Finding the R Value and assign list to R\n",
    "r = list(range(Num_of_Models + 1))\n",
    "\n",
    "# pmf values\n",
    "dist = [binom.pmf(r,Num_of_Models,Error_Rates) for r in r ]\n",
    "\n",
    "# plotting graph \n",
    "plt.bar(r, dist, color=['green'], edgecolor='black')\n",
    "plt.title(\"PMF Method - Number of False Positives\")\n",
    "plt.xlabel(\"X\")\n",
    "plt.ylabel(\"Probability Mass\")\n",
    "plt.show()"
   ]
  },
  {
   "cell_type": "markdown",
   "metadata": {},
   "source": [
    "## Results:"
   ]
  },
  {
   "cell_type": "markdown",
   "metadata": {},
   "source": [
    "### For an ensemble with 11 models with an error rate of 49% per model, the probability of getting misclassifications  is 47.2948%"
   ]
  },
  {
   "cell_type": "markdown",
   "metadata": {},
   "source": [
    "# #3 - The ensemble contains 21 independent models, all of which have an error rate of 0.49"
   ]
  },
  {
   "cell_type": "code",
   "execution_count": 14,
   "metadata": {},
   "outputs": [],
   "source": [
    "#set parameters 21,.49, //2\n",
    "Num_of_Models=21\n",
    "Error_Rates=0.49\n",
    "Num_of_Fails = Num_of_Models // 2"
   ]
  },
  {
   "cell_type": "code",
   "execution_count": 15,
   "metadata": {},
   "outputs": [
    {
     "data": {
      "text/plain": [
       "0.4630479010127354"
      ]
     },
     "execution_count": 15,
     "metadata": {},
     "output_type": "execute_result"
    }
   ],
   "source": [
    "# values of k,p,n and binomcdf will return an array consist of probability.\n",
    "binomcdf(k=Num_of_Fails,\n",
    "         p=Error_Rates, \n",
    "         n=Num_of_Models)"
   ]
  },
  {
   "cell_type": "code",
   "execution_count": 16,
   "metadata": {},
   "outputs": [
    {
     "data": {
      "image/png": "[encoded data removed]",
      "text/plain": [
       "<Figure size 432x288 with 1 Axes>"
      ]
     },
     "metadata": {
      "needs_background": "light"
     },
     "output_type": "display_data"
    }
   ],
   "source": [
    "#Finding the R Value and assign list to R\n",
    "r = list(range(Num_of_Models + 1))\n",
    "\n",
    "# list of cdf values\n",
    "dist = [binom.cdf(r,Num_of_Models,Error_Rates) for r in r ]\n",
    "\n",
    "# plotting the graph \n",
    "plt.bar(r, dist, color=['skyblue'], edgecolor='black')\n",
    "plt.title(\"CDF Method - Number of False Positives\")\n",
    "plt.xlabel(\"X\")\n",
    "plt.ylabel(\"Probability\")\n",
    "plt.show()"
   ]
  },
  {
   "cell_type": "code",
   "execution_count": 17,
   "metadata": {},
   "outputs": [
    {
     "data": {
      "text/plain": [
       "0.17086688342342418"
      ]
     },
     "execution_count": 17,
     "metadata": {},
     "output_type": "execute_result"
    }
   ],
   "source": [
    "# values of k,P,N and binompmf will return an array consist of probability.\n",
    "binompmf(k=Num_of_Fails, \n",
    "         p=Error_Rates, \n",
    "         n=Num_of_Models)"
   ]
  },
  {
   "cell_type": "code",
   "execution_count": 18,
   "metadata": {},
   "outputs": [
    {
     "data": {
      "image/png": "[encoded data removed]",
      "text/plain": [
       "<Figure size 432x288 with 1 Axes>"
      ]
     },
     "metadata": {
      "needs_background": "light"
     },
     "output_type": "display_data"
    }
   ],
   "source": [
    "#Finding the R Value and assign list to R\n",
    "r = list(range(Num_of_Models + 1))\n",
    "\n",
    "#pmf values\n",
    "dist = [binom.pmf(r,Num_of_Models,Error_Rates) for r in r ]\n",
    "\n",
    "#plotting graph \n",
    "plt.bar(r, dist, color=['skyblue'], edgecolor='black')\n",
    "plt.title(\"PMF Method - Number of False Positives\")\n",
    "plt.xlabel(\"X\")\n",
    "plt.ylabel(\"Probability Mass\")\n",
    "plt.show()"
   ]
  },
  {
   "cell_type": "markdown",
   "metadata": {},
   "source": [
    "## Results:"
   ]
  },
  {
   "cell_type": "markdown",
   "metadata": {},
   "source": [
    "### For an ensemble with 21 models with an error rate of 49% per model, the probability of getting misclassifications is 46.3047%"
   ]
  },
  {
   "cell_type": "markdown",
   "metadata": {},
   "source": [
    "Reference:\n",
    "    https://www.itl.nist.gov/div898/handbook/eda/section3/eda366i.htm"
   ]
  },
  {
   "cell_type": "code",
   "execution_count": null,
   "metadata": {},
   "outputs": [],
   "source": []
  }
 ],
 "metadata": {
  "kernelspec": {
   "display_name": "Python 3",
   "language": "python",
   "name": "python3"
  },
  "language_info": {
   "codemirror_mode": {
    "name": "ipython",
    "version": 3
   },
   "file_extension": ".py",
   "mimetype": "text/x-python",
   "name": "python",
   "nbconvert_exporter": "python",
   "pygments_lexer": "ipython3",
   "version": "3.8.5"
  }
 },
 "nbformat": 4,
 "nbformat_minor": 4
}
